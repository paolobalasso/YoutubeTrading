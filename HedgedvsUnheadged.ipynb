{
  "cells": [
    {
      "cell_type": "markdown",
      "metadata": {
        "id": "view-in-github",
        "colab_type": "text"
      },
      "source": [
        "<a href=\"https://colab.research.google.com/github/paolobalasso/YoutubeTrading/blob/main/HedgedvsUnheadged.ipynb\" target=\"_parent\"><img src=\"https://colab.research.google.com/assets/colab-badge.svg\" alt=\"Open In Colab\"/></a>"
      ]
    },
    {
      "cell_type": "code",
      "source": [
        "%%capture\n",
        "!pip install yfinance\n",
        "!pip install prophet\n",
        "\n",
        "%matplotlib inline"
      ],
      "metadata": {
        "id": "gxARAa5mkJ3R"
      },
      "execution_count": null,
      "outputs": []
    },
    {
      "cell_type": "code",
      "source": [
        "import numpy as np\n",
        "from sklearn.cluster import KMeans\n",
        "from sklearn import metrics\n",
        "import pandas_datareader.data as web\n",
        "import matplotlib.pyplot as plt\n",
        "import pandas as pd\n",
        "import yfinance as yf\n",
        "from prophet import Prophet\n",
        "\n"
      ],
      "metadata": {
        "id": "U4YcqoMGFzQl"
      },
      "execution_count": null,
      "outputs": []
    },
    {
      "cell_type": "code",
      "source": [
        "#EXCHANGE RATE\n",
        "\n",
        "exchange_df = yf.download(['EURUSD=X','GBPUSD=X','EURGBP=X'],'2004-01-04',end = '2026-01-01')['Close']\n",
        "(exchange_df.pct_change()+1).cumprod().plot()"
      ],
      "metadata": {
        "id": "58mL8nHgieSC"
      },
      "execution_count": null,
      "outputs": []
    },
    {
      "cell_type": "code",
      "source": [],
      "metadata": {
        "id": "WgfDIjo0L79a"
      },
      "execution_count": null,
      "outputs": []
    },
    {
      "cell_type": "code",
      "source": [
        "#MSCI WORLD\n",
        "\n",
        "%matplotlib inline\n",
        "prices = yf.download(['IWDE.AS','IWDA.AS'],\"2022-10-04\",end = '2026-01-01')['Adj Close']\n",
        "(prices['IWDA.AS'].multiply(yf.download(['EURUSD=X'],'2022-10-04',end = '2024-01-01')['Close'],axis=\"index\").pct_change()+1).cumprod().plot(label ='Perfect Hedged',figsize=(10,5))\n",
        "(prices['IWDE.AS'].pct_change()+1).cumprod().plot(label ='Hedged-IWDE.AS')\n",
        "(prices['IWDA.AS'].pct_change()+1).cumprod().plot(label ='Unhedged-IWDA.AS')\n",
        "plt.legend( loc =\"lower right\")\n",
        "plt.show()\n",
        "(yf.download(['EURUSD=X'],'2022-10-04',end = '2024-01-01')['Close'].pct_change()+1).cumprod().plot(figsize=(10,5))\n"
      ],
      "metadata": {
        "id": "dZQvXAGCBCip"
      },
      "execution_count": null,
      "outputs": []
    },
    {
      "cell_type": "code",
      "source": [
        "%matplotlib inline\n",
        "prices = yf.download(['IWDE.AS','IWDA.AS'],\"2022-10-04\",end = '2026-01-01')['Adj Close']\n",
        "prices['IWDA.PerfectHedged'] = prices['IWDA.AS'].multiply(yf.download(['EURUSD=X'],'2022-10-04',end = '2026-01-01')['Close'],axis=\"index\")\n",
        "\n",
        "(prices.pct_change()+1).cumprod()"
      ],
      "metadata": {
        "id": "-1wPSj7Q9hZ3"
      },
      "execution_count": null,
      "outputs": []
    },
    {
      "cell_type": "code",
      "source": [
        "#BOND ETFS\n",
        "%matplotlib inline\n",
        "prices = yf.download(['DTLE.L','IDTL.L'],\"2022-10-04\",end = '2026-01-01')['Adj Close']\n",
        "(prices['IDTL.L'].multiply(yf.download(['EURUSD=X'],'2022-10-04',end = '2026-01-01')['Close'],axis=\"index\").pct_change()+1).cumprod().plot(label ='Perfect Hedged',figsize=(10,5))\n",
        "(prices['DTLE.L'].pct_change()+1).cumprod().plot(label ='DTLE.L-Headged')\n",
        "(prices['IDTL.L'].pct_change()+1).cumprod().plot(label ='IDTL.L-Unheadged')\n",
        "plt.legend( loc =\"lower right\")\n",
        "plt.show()\n",
        "(yf.download(['EURUSD=X'],'2022-10-04',end = '2026-01-01')['Close'].pct_change()+1).cumprod().plot(figsize=(10,5))\n",
        "plt.show()\n",
        "\n",
        "prices['IDTL.PerfectHedged'] = prices['IDTL.L'].multiply(yf.download(['EURUSD=X'],'2022-10-04',end = '2026-01-01')['Close'],axis=\"index\")\n",
        "(prices.pct_change()+1).cumprod()**(1)\n"
      ],
      "metadata": {
        "id": "pi_Q91vsGo7x"
      },
      "execution_count": null,
      "outputs": []
    },
    {
      "cell_type": "code",
      "source": [
        "#BOND ETFS\n",
        "%matplotlib inline\n",
        "prices = yf.download(['DTLE.L','IS04.DE'],\"2019-10-04\",end = '2024-01-01')['Adj Close']\n",
        "(prices['IS04.DE'].multiply(yf.download(['EURUSD=X'],'2019-10-04',end = '2024-01-01')['Close'],axis=\"index\").pct_change()+1).cumprod().plot(label ='Perfect Hedged',figsize=(10,5))\n",
        "(prices['DTLE.L'].pct_change()+1).cumprod().plot(label ='DTLE.L-Headged')\n",
        "(prices['IS04.DE'].pct_change()+1).cumprod().plot(label ='IDTL.L-Unheadged')\n",
        "plt.legend( loc =\"lower right\")\n",
        "plt.show()\n",
        "(yf.download(['EURUSD=X'],'2019-10-04',end = '2024-01-01')['Close'].pct_change()+1).cumprod().plot(figsize=(10,5))\n",
        "plt.show()\n",
        "\n",
        "prices['IDTL.PerfectHedged'] = prices['IS04.DE'].multiply(yf.download(['EURUSD=X'],'2019-10-04',end = '2024-01-01')['Close'],axis=\"index\")\n",
        "(prices.pct_change()+1).cumprod()**(1/4)\n"
      ],
      "metadata": {
        "id": "Yj9UBIMEWvgo"
      },
      "execution_count": null,
      "outputs": []
    },
    {
      "cell_type": "code",
      "source": [],
      "metadata": {
        "id": "MHbfvPMFJRYj"
      },
      "execution_count": null,
      "outputs": []
    },
    {
      "cell_type": "code",
      "source": [
        "#MSCI US\n",
        "%matplotlib inline\n",
        "prices = yf.download(['IUSA.AS','IUES.AS'],\"2022-10-04\",end = '2024-01-01')['Adj Close']\n",
        "(prices['IUSA.AS'].multiply(yf.download(['EURUSD=X'],'2022-10-04',end = '2024-01-01')['Close'],axis=\"index\").pct_change()+1).cumprod().plot(label ='Perfect Hedged',figsize=(10,5))\n",
        "(prices['IUES.AS'].pct_change()+1).cumprod().plot(label ='IUSE.AS-Headged',figsize=(10,5))\n",
        "(prices['IUSA.AS'].pct_change()+1).cumprod().plot(label ='IUSA.AS-Unheadged',figsize=(10,5))\n",
        "plt.legend( loc =\"lower right\")\n",
        "plt.show()\n",
        "(yf.download(['EURUSD=X'],'2022-10-04',end = '2024-01-01')['Close'].pct_change()+1).cumprod().plot()\n",
        "\n"
      ],
      "metadata": {
        "id": "pnpqqo9afzfV"
      },
      "execution_count": null,
      "outputs": []
    },
    {
      "cell_type": "code",
      "source": [
        "%matplotlib inline\n",
        "prices = yf.download(['IUSA.AS','IUES.AS'],\"2022-10-04\",end = '2024-01-01')['Adj Close']\n",
        "prices['IUSA.PerfectHedged'] = prices['IUSA.AS'].multiply(yf.download(['EURUSD=X'],'2019-10-04',end = '2024-01-01')['Close'],axis=\"index\")\n",
        "\n",
        "(prices.pct_change()+1).cumprod()"
      ],
      "metadata": {
        "id": "HXSCKyp8kZvJ"
      },
      "execution_count": null,
      "outputs": []
    },
    {
      "cell_type": "code",
      "source": [
        "#### Prediction\n",
        "\n",
        "\"\"\"\n",
        "Functions to evaluate the model\n",
        "\"\"\"\n",
        "def MAPE(y, y_hat):\n",
        "        return np.mean(np.abs((y - y_hat)/y)) * 100\n",
        "\n",
        "def RMSE(y, y_hat):\n",
        "    return np.sqrt(np.mean(np.square(y - y_hat)))\n",
        "\n",
        "\"\"\"\n",
        "Function to perform a univariate forecast and evaluate performance\n",
        "\"\"\"\n",
        "def uni_forecast(slug_df_lst, slug='EURUSD=X', plot=False, plot_comp=False):\n",
        "    print('='*40)\n",
        "    new = exchange_df_w['EURUSD=X'].reset_index()[['Date', 'EURUSD=X']]\n",
        "    new = new.rename(columns={'Date': 'ds', 'EURUSD=X': 'y'})\n",
        "\n",
        "    test_data = new.loc[(len(new)-52):len(new)]\n",
        "    train_data = new.drop(test_data.index)\n",
        "    print(f'Training data shape: {train_data.shape}')\n",
        "    print(f'Test data shape: {test_data.shape}')\n",
        "\n",
        "    model = Prophet(seasonality_mode='multiplicative')\n",
        "    model.fit(train_data)\n",
        "\n",
        "    future = test_data[['ds']]\n",
        "    forecast = model.predict(future)\n",
        "    print(f'Forecast data shape: {forecast.shape}')\n",
        "\n",
        "    if plot == True:\n",
        "          model.plot(forecast)\n",
        "          exchange_df_w['EURUSD=X'].iloc[(len(new)-52):len(new)].plot(label='Test',color='black')\n",
        "          plt.show()\n",
        "    if plot_comp == True:\n",
        "          model.plot_components(forecast)\n",
        "          plt.show()\n",
        "\n",
        "    mape = str(round(MAPE(test_data['y'].values, forecast['yhat'].values),2)) + \"%\"\n",
        "    rmse = round(RMSE(test_data['y'].values, forecast['yhat'].values), 5)\n",
        "    print(f'MAPE: {mape}')\n",
        "    print(f'RMSE: {rmse}')\n"
      ],
      "metadata": {
        "id": "JBGyWY4Fq4uq"
      },
      "execution_count": null,
      "outputs": []
    },
    {
      "cell_type": "code",
      "source": [
        "exchange_df_w = exchange_df.resample(\"W-FRI\").last()\n",
        "uni_forecast(exchange_df_w, slug='EURUSD=X', plot=True, plot_comp=False)"
      ],
      "metadata": {
        "id": "rlOlc4GbxoM6"
      },
      "execution_count": null,
      "outputs": []
    },
    {
      "cell_type": "code",
      "source": [
        "exchange_df_w = exchange_df.resample(\"W-FRI\").last()\n",
        "new = exchange_df_w['EURUSD=X'].reset_index()[['Date', 'EURUSD=X']]\n",
        "new = new.rename(columns={'Date': 'ds', 'EURUSD=X': 'y'})\n",
        "m = Prophet(seasonality_mode='multiplicative',yearly_seasonality=True).fit(new)\n",
        "future = m.make_future_dataframe(periods=104,freq=\"W-FRI\")\n",
        "fcst = m.predict(future)\n",
        "fig = m.plot(fcst)\n"
      ],
      "metadata": {
        "id": "e9lpSyxP1zIi"
      },
      "execution_count": null,
      "outputs": []
    },
    {
      "cell_type": "code",
      "source": [],
      "metadata": {
        "id": "B65imoGhvUID"
      },
      "execution_count": null,
      "outputs": []
    },
    {
      "cell_type": "code",
      "execution_count": null,
      "metadata": {
        "id": "-6RADc_pJYo6"
      },
      "outputs": [],
      "source": []
    },
    {
      "cell_type": "code",
      "source": [],
      "metadata": {
        "id": "cS-cKznW8zC9"
      },
      "execution_count": null,
      "outputs": []
    },
    {
      "cell_type": "code",
      "source": [],
      "metadata": {
        "id": "xF_anhERCvmV"
      },
      "execution_count": null,
      "outputs": []
    },
    {
      "cell_type": "code",
      "execution_count": null,
      "metadata": {
        "id": "lN_aT3nl_oU9"
      },
      "outputs": [],
      "source": []
    },
    {
      "cell_type": "code",
      "execution_count": null,
      "metadata": {
        "id": "q3BP7uz5ASaQ"
      },
      "outputs": [],
      "source": []
    },
    {
      "cell_type": "code",
      "source": [],
      "metadata": {
        "id": "V02jSpGC-DWN"
      },
      "execution_count": null,
      "outputs": []
    },
    {
      "cell_type": "code",
      "source": [],
      "metadata": {
        "id": "pz3KV0vQwNA8"
      },
      "execution_count": null,
      "outputs": []
    },
    {
      "cell_type": "code",
      "source": [],
      "metadata": {
        "id": "UCth4mW34uf0"
      },
      "execution_count": null,
      "outputs": []
    },
    {
      "cell_type": "code",
      "source": [],
      "metadata": {
        "id": "OZdVECu2JYwW"
      },
      "execution_count": null,
      "outputs": []
    },
    {
      "cell_type": "code",
      "source": [],
      "metadata": {
        "id": "bRLWOTiOJzGu"
      },
      "execution_count": null,
      "outputs": []
    },
    {
      "cell_type": "code",
      "source": [],
      "metadata": {
        "id": "GRweuvf7LiJb"
      },
      "execution_count": null,
      "outputs": []
    },
    {
      "cell_type": "code",
      "source": [],
      "metadata": {
        "id": "WFZbFNM_Pkgj"
      },
      "execution_count": null,
      "outputs": []
    },
    {
      "cell_type": "code",
      "source": [],
      "metadata": {
        "id": "cpvKOIwEPzpy"
      },
      "execution_count": null,
      "outputs": []
    },
    {
      "cell_type": "code",
      "source": [],
      "metadata": {
        "id": "BWBYjVvmgOXh"
      },
      "execution_count": null,
      "outputs": []
    },
    {
      "cell_type": "code",
      "execution_count": null,
      "metadata": {
        "id": "VMvb6LIUuckp"
      },
      "outputs": [],
      "source": []
    },
    {
      "cell_type": "code",
      "execution_count": null,
      "metadata": {
        "id": "GlJaQj5VP1fm"
      },
      "outputs": [],
      "source": []
    },
    {
      "cell_type": "code",
      "execution_count": null,
      "metadata": {
        "id": "dHV3sgu4O-T4"
      },
      "outputs": [],
      "source": []
    },
    {
      "cell_type": "code",
      "execution_count": null,
      "metadata": {
        "id": "w5RKNw02m7zn"
      },
      "outputs": [],
      "source": []
    },
    {
      "cell_type": "code",
      "execution_count": null,
      "metadata": {
        "id": "X5QSKCS00hmR"
      },
      "outputs": [],
      "source": []
    },
    {
      "cell_type": "code",
      "execution_count": null,
      "metadata": {
        "id": "r2229HSMe2ON"
      },
      "outputs": [],
      "source": []
    },
    {
      "cell_type": "code",
      "execution_count": null,
      "metadata": {
        "id": "sfZC2TcarkuM"
      },
      "outputs": [],
      "source": []
    },
    {
      "cell_type": "code",
      "execution_count": null,
      "metadata": {
        "id": "D181j6NWu2dn"
      },
      "outputs": [],
      "source": []
    },
    {
      "cell_type": "code",
      "execution_count": null,
      "metadata": {
        "id": "JYV9yt5FqxtX"
      },
      "outputs": [],
      "source": []
    },
    {
      "cell_type": "code",
      "execution_count": null,
      "metadata": {
        "id": "YpOaJl84zwNk"
      },
      "outputs": [],
      "source": []
    },
    {
      "cell_type": "code",
      "execution_count": null,
      "metadata": {
        "id": "y4UZnihtYx8l"
      },
      "outputs": [],
      "source": []
    },
    {
      "cell_type": "code",
      "execution_count": null,
      "metadata": {
        "id": "WQNH_0CPyXQc"
      },
      "outputs": [],
      "source": []
    },
    {
      "cell_type": "code",
      "execution_count": null,
      "metadata": {
        "id": "2MNiXD3OkAH3"
      },
      "outputs": [],
      "source": []
    },
    {
      "cell_type": "code",
      "source": [],
      "metadata": {
        "id": "0bXqC3zM8t1x"
      },
      "execution_count": null,
      "outputs": []
    },
    {
      "cell_type": "code",
      "source": [],
      "metadata": {
        "id": "J6RH_ClJCrNc"
      },
      "execution_count": null,
      "outputs": []
    },
    {
      "cell_type": "code",
      "execution_count": null,
      "metadata": {
        "id": "qTNgkX-X13gV"
      },
      "outputs": [],
      "source": []
    },
    {
      "cell_type": "code",
      "execution_count": null,
      "metadata": {
        "id": "LyxucWq7k-Ek"
      },
      "outputs": [],
      "source": []
    },
    {
      "cell_type": "code",
      "execution_count": null,
      "metadata": {
        "id": "3ngrWxr5gOLg"
      },
      "outputs": [],
      "source": []
    },
    {
      "cell_type": "code",
      "execution_count": null,
      "metadata": {
        "id": "VeO3duinRaNJ"
      },
      "outputs": [],
      "source": []
    },
    {
      "cell_type": "code",
      "execution_count": null,
      "metadata": {
        "id": "f3gvxjIn3Wkm"
      },
      "outputs": [],
      "source": []
    },
    {
      "cell_type": "code",
      "execution_count": null,
      "metadata": {
        "id": "tYUvmNe6c2k_"
      },
      "outputs": [],
      "source": []
    },
    {
      "cell_type": "code",
      "execution_count": null,
      "metadata": {
        "id": "bCQSgoS5c5eL"
      },
      "outputs": [],
      "source": []
    },
    {
      "cell_type": "code",
      "execution_count": null,
      "metadata": {
        "id": "VSthdxcXRaWe"
      },
      "outputs": [],
      "source": []
    },
    {
      "cell_type": "code",
      "execution_count": null,
      "metadata": {
        "id": "uF22Gx_iRkEx"
      },
      "outputs": [],
      "source": []
    },
    {
      "cell_type": "code",
      "execution_count": null,
      "metadata": {
        "id": "3ZcOEMnMuuZH"
      },
      "outputs": [],
      "source": []
    },
    {
      "cell_type": "code",
      "execution_count": null,
      "metadata": {
        "id": "lMlCE3Hz2aD1"
      },
      "outputs": [],
      "source": []
    },
    {
      "cell_type": "code",
      "execution_count": null,
      "metadata": {
        "id": "EXH7gpDc0uI-"
      },
      "outputs": [],
      "source": []
    },
    {
      "cell_type": "code",
      "execution_count": null,
      "metadata": {
        "id": "sptrU7kKvZo2"
      },
      "outputs": [],
      "source": []
    },
    {
      "cell_type": "code",
      "execution_count": null,
      "metadata": {
        "id": "b-T88KJ5b5P2"
      },
      "outputs": [],
      "source": []
    },
    {
      "cell_type": "code",
      "execution_count": null,
      "metadata": {
        "id": "dUcZmtAV60kS"
      },
      "outputs": [],
      "source": []
    },
    {
      "cell_type": "code",
      "source": [],
      "metadata": {
        "id": "8GiRmEqjCKBY"
      },
      "execution_count": null,
      "outputs": []
    },
    {
      "cell_type": "code",
      "execution_count": null,
      "metadata": {
        "id": "W0Wj-dLL-OHi"
      },
      "outputs": [],
      "source": []
    },
    {
      "cell_type": "code",
      "execution_count": null,
      "metadata": {
        "id": "jUA-NWJEyQgd"
      },
      "outputs": [],
      "source": []
    },
    {
      "cell_type": "code",
      "execution_count": null,
      "metadata": {
        "id": "61kehjVI0oXK"
      },
      "outputs": [],
      "source": []
    },
    {
      "cell_type": "code",
      "execution_count": null,
      "metadata": {
        "id": "ek6wmW5j9JtX"
      },
      "outputs": [],
      "source": []
    },
    {
      "cell_type": "code",
      "execution_count": null,
      "metadata": {
        "id": "tqnvd--myIM7"
      },
      "outputs": [],
      "source": []
    },
    {
      "cell_type": "code",
      "execution_count": null,
      "metadata": {
        "id": "1-ThcgEM3gil"
      },
      "outputs": [],
      "source": []
    },
    {
      "cell_type": "code",
      "execution_count": null,
      "metadata": {
        "id": "0LZStSOwz3ZY"
      },
      "outputs": [],
      "source": []
    },
    {
      "cell_type": "code",
      "execution_count": null,
      "metadata": {
        "id": "S7-uNS1VVEkS"
      },
      "outputs": [],
      "source": []
    },
    {
      "cell_type": "code",
      "execution_count": null,
      "metadata": {
        "id": "EGbr3Yfj4w1_"
      },
      "outputs": [],
      "source": []
    },
    {
      "cell_type": "code",
      "source": [],
      "metadata": {
        "id": "hj-QUm9ab0b7"
      },
      "execution_count": null,
      "outputs": []
    },
    {
      "cell_type": "code",
      "source": [],
      "metadata": {
        "id": "f3W3Ur53moRC"
      },
      "execution_count": null,
      "outputs": []
    }
  ],
  "metadata": {
    "colab": {
      "provenance": [],
      "authorship_tag": "ABX9TyO/rjMvS6lyqncSi3RomWjx",
      "include_colab_link": true
    },
    "kernelspec": {
      "display_name": "Python 3",
      "name": "python3"
    },
    "language_info": {
      "name": "python"
    }
  },
  "nbformat": 4,
  "nbformat_minor": 0
}