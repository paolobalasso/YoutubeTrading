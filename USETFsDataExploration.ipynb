{
  "cells": [
    {
      "cell_type": "markdown",
      "metadata": {
        "id": "view-in-github",
        "colab_type": "text"
      },
      "source": [
        "<a href=\"https://colab.research.google.com/github/paolobalasso/YoutubeTrading/blob/main/USETFsDataExploration.ipynb\" target=\"_parent\"><img src=\"https://colab.research.google.com/assets/colab-badge.svg\" alt=\"Open In Colab\"/></a>"
      ]
    },
    {
      "cell_type": "code",
      "execution_count": null,
      "metadata": {
        "id": "gxARAa5mkJ3R"
      },
      "outputs": [],
      "source": [
        "%%capture\n",
        "!pip install yfinance\n",
        "!pip install bt\n",
        "!pip install PyPortfolioOpt\n",
        "\n",
        "%matplotlib inline"
      ]
    },
    {
      "cell_type": "code",
      "execution_count": null,
      "metadata": {
        "id": "U4YcqoMGFzQl"
      },
      "outputs": [],
      "source": [
        "import numpy as np\n",
        "from sklearn.cluster import KMeans\n",
        "from sklearn import metrics\n",
        "import pandas_datareader.data as web\n",
        "import matplotlib.pyplot as plt\n",
        "import pandas as pd\n",
        "import bt\n",
        "import yfinance as yf\n",
        "import plotly.graph_objects as go\n",
        "\n",
        "\n",
        "from scipy.cluster.hierarchy import linkage, dendrogram, fcluster, distance\n",
        "from scipy.spatial.distance import squareform\n",
        "from sklearn.cluster import AgglomerativeClustering\n",
        "\n",
        "%matplotlib inline"
      ]
    },
    {
      "cell_type": "code",
      "execution_count": null,
      "metadata": {
        "id": "qIDYNLkUy3Zq"
      },
      "outputs": [],
      "source": [
        "def drawdown(portfolio_returns: pd.DataFrame) -> pd.Series:\n",
        "    \"\"\"\n",
        "    Calculates the drawdown with a rolling window of 1 year for the given portfolio returns.\n",
        "\n",
        "    Args:\n",
        "        portfolio_returns: A pandas dataframe with portfolio returns as values and dates as index.\n",
        "\n",
        "    Returns:\n",
        "        A pandas series with the drawdown values for each date in the input dataframe.\n",
        "    \"\"\"\n",
        "    # Calculate the cumulative returns for the portfolio\n",
        "    cum_returns = (1 + portfolio_returns).cumprod()\n",
        "\n",
        "    # Calculate the rolling maximum of the cumulative returns over a 1-year window\n",
        "    rolling_max = cum_returns.rolling(window='365D', min_periods=1).max()\n",
        "\n",
        "    # Calculate the drawdown as the percentage difference between the rolling maximum and the cumulative returns\n",
        "    drawdown = (cum_returns - rolling_max) / rolling_max\n",
        "\n",
        "    # Return the drawdown as a pandas series with the same index as the input dataframe\n",
        "    return drawdown.min()\n",
        "\n",
        "def calculate_performance_metrics_price(data):\n",
        "\n",
        "    returns = data.pct_change().copy()\n",
        "    histdays = np.isfinite(returns).sum(axis=0).values/252\n",
        "    annual_returns = (1 + returns).prod() ** (252/np.isfinite(returns).sum(axis=0).values) - 1\n",
        "    sharpe_ratio = (returns.mean() * 252) / (returns.std() * np.sqrt(252))\n",
        "    volatility =(returns.std() * np.sqrt(252))\n",
        "    max_dd = drawdown(returns)\n",
        "    calmar_ratio = annual_returns / np.abs(max_dd)\n",
        "\n",
        "    performance_metrics = pd.DataFrame({\n",
        "        \"AnnualizedReturns\": annual_returns,\n",
        "        'historicalYears': histdays,\n",
        "        'Volatility': volatility,\n",
        "        \"SharpeRatio\": sharpe_ratio,\n",
        "        \"MaxDrawdown\": max_dd,\n",
        "        \"CalmarRatio\": calmar_ratio\n",
        "    },index=data.columns)\n",
        "\n",
        "    #(returns + 1).cumprod().plot(label=str(name))\n",
        "\n",
        "    return performance_metrics"
      ]
    },
    {
      "cell_type": "code",
      "execution_count": null,
      "metadata": {
        "id": "BQpVQ5mCqj5i"
      },
      "outputs": [],
      "source": [
        "import pandas as pd\n",
        "url = 'https://github.com/paolobalasso/YoutubeTrading/raw/main/ETFsUS.xlsx'\n",
        "df=pd.read_excel(url)\n",
        "df"
      ]
    },
    {
      "cell_type": "code",
      "execution_count": null,
      "metadata": {
        "id": "rIVqyV-YwgHP"
      },
      "outputs": [],
      "source": []
    },
    {
      "cell_type": "code",
      "execution_count": null,
      "metadata": {
        "id": "EqZfZ-MdTudV"
      },
      "outputs": [],
      "source": [
        "clusterUS = df.Ticker.to_list()\n",
        "data = yf.download(clusterUS, start='2010-01-01',end='2026-01-01')['Close']"
      ]
    },
    {
      "cell_type": "code",
      "execution_count": null,
      "metadata": {
        "id": "oYkf_v71utMM"
      },
      "outputs": [],
      "source": []
    },
    {
      "cell_type": "code",
      "execution_count": null,
      "metadata": {
        "id": "_tYt8SFOVZHd"
      },
      "outputs": [],
      "source": [
        "(yf.download('EMB', start='2010-01-01',end='2026-01-01')['Close'].pct_change()+1).cumprod().plot()\n",
        "(yf.download('EMB', start='2010-01-01',end='2026-01-01',  auto_adjust=False)['Close'].pct_change()+1).cumprod().plot()\n",
        "plt.show()\n"
      ]
    },
    {
      "cell_type": "code",
      "execution_count": null,
      "metadata": {
        "id": "R5BYQD3MQXLK"
      },
      "outputs": [],
      "source": []
    },
    {
      "cell_type": "code",
      "execution_count": null,
      "metadata": {
        "id": "5T2ytnEZQvwf"
      },
      "outputs": [],
      "source": []
    },
    {
      "cell_type": "code",
      "execution_count": null,
      "metadata": {
        "id": "dZeAGlrE6sDe"
      },
      "outputs": [],
      "source": [
        "# Calculate the 1-year returns for each column\n",
        "datacorrw = data.copy().loc['2018-01-01':]\n",
        "datacorrw.columns = df.sort_values('Ticker').Sector\n",
        "correlation_matrix = datacorrw.dropna(axis=1, how='all').pct_change().corr(method='pearson')\n",
        "corr_matrix = correlation_matrix#.abs()\n",
        "corr_ETF_matrix = corr_matrix.dropna(how=\"all\",axis=1).dropna(how=\"all\",axis=0).replace(np.nan,0)"
      ]
    },
    {
      "cell_type": "code",
      "execution_count": null,
      "metadata": {
        "id": "cKhFlUaEAlEq"
      },
      "outputs": [],
      "source": [
        "import seaborn as sns\n",
        "\n",
        "plt.figure(figsize=(16, 8))\n",
        "\n",
        "heatmap = sns.heatmap(correlation_matrix, vmin=-1, vmax=1, annot=True)\n",
        "\n",
        "heatmap.set_title('Correlation Heatmap', fontdict={'fontsize':12}, pad=12);"
      ]
    },
    {
      "cell_type": "code",
      "execution_count": null,
      "metadata": {
        "id": "0RqR_vkH7kdw"
      },
      "outputs": [],
      "source": [
        "correlation_matrix"
      ]
    },
    {
      "cell_type": "code",
      "execution_count": null,
      "metadata": {
        "id": "pnL0IbL3wi-D"
      },
      "outputs": [],
      "source": [
        "\n",
        "#### hierarchical dendogram correlation\n",
        "distance_threshold = .14\n",
        "\n",
        "plt.figure(figsize=(20,5))\n",
        "Z = linkage(squareform(1-abs(corr_ETF_matrix)), 'single')\n",
        "\n",
        "dendrogram(Z, labels=corr_ETF_matrix.columns, orientation='top',\n",
        "           leaf_rotation=90,leaf_font_size=10,color_threshold=distance_threshold)\n",
        "plt.axhline(y=distance_threshold, color='r', linestyle='--')\n",
        "\n",
        "\n",
        "#clustercorr = AgglomerativeClustering(distance_threshold=distance_threshold, affinity='euclidean', linkage='single',n_clusters=None)\n",
        "#clusters = clustercorr.fit_predict(squareform(1-abs(corr_ETF_matrix)))\n",
        "\n",
        "clusters = fcluster(Z, distance_threshold, criterion='distance')\n"
      ]
    },
    {
      "cell_type": "code",
      "execution_count": null,
      "metadata": {
        "id": "8icIghhZzRiv"
      },
      "outputs": [],
      "source": [
        "selected_etfs_df = pd.DataFrame(columns=['stock', 'cluster','avg_return'])\n",
        "\n",
        "fig, axs = plt.subplots(nrows=3, ncols=6, figsize=(18, 12))\n",
        "plt.subplots_adjust(hspace=0.5)\n",
        "fig.suptitle(\"Correlation Clustering\", fontsize=18, y=0.95)\n",
        "plt.rc('legend', fontsize=5,loc='lower right')\n",
        "plt.rc('xtick', labelsize=10)\n",
        "plt.rc('ytick', labelsize=10)\n",
        "\n",
        "\n",
        "\n",
        "for  cluster, ax in zip(set(clusters),axs.ravel()):\n",
        "    # Select the columns in the current cluster\n",
        "    cluster_columns = corr_ETF_matrix.columns[clusters == cluster]\n",
        "    # append info to the dataframe\n",
        "    returns = datacorrw[cluster_columns].iloc[-256*4:].pct_change().add(1).cumprod().iloc[-1]-1\n",
        "\n",
        "    to_append = pd.DataFrame({'stock':cluster_columns.tolist(), 'cluster': cluster.tolist(),'avg_return': returns})\n",
        "    #selected_etfs_df = selected_etfs_df.append(to_append, ignore_index=True)\n",
        "    selected_etfs_df = pd.concat([selected_etfs_df,to_append], ignore_index=True)\n",
        "\n",
        "    # Create a figure\n",
        "    #fig, ax = plt.subplots()\n",
        "    # Plot the cumulative returns for each column in the cluster\n",
        "    datacorrw[cluster_columns].iloc[-256*4:].pct_change().add(1).cumprod().plot(ax=ax)\n",
        "    # Add a title to the plot\n",
        "    ax.set_title('Cumulative Returns (Cluster {})'.format(cluster), fontsize=8)\n",
        "    #ax.get_legend().remove()\n",
        "    ax.set_xlabel(\"\")\n",
        "\n",
        "\n",
        "# Show the plot\n",
        "plt.show()\n",
        "\n",
        "# Create a new column with 1s in the positions with the maximum value by group and 0s in the other positions\n",
        "max_index = selected_etfs_df.groupby('cluster')['avg_return'].idxmax()\n",
        "selected_etfs_df['idmax'] = [1 if i in max_index.values else 0 for i in selected_etfs_df.index]"
      ]
    },
    {
      "cell_type": "code",
      "execution_count": null,
      "metadata": {
        "id": "n3cHcsmEwcLw"
      },
      "outputs": [],
      "source": [
        "selected_etfs = selected_etfs_df.loc[selected_etfs_df.idmax == 1]\n",
        "selected_etfs"
      ]
    },
    {
      "cell_type": "code",
      "execution_count": null,
      "metadata": {
        "id": "GmxBM5iZay0B"
      },
      "outputs": [],
      "source": []
    },
    {
      "cell_type": "code",
      "execution_count": null,
      "metadata": {
        "id": "RAaFgtj7XBDS"
      },
      "outputs": [],
      "source": []
    },
    {
      "cell_type": "code",
      "execution_count": null,
      "metadata": {
        "id": "ASxZ4Qz23aOV"
      },
      "outputs": [],
      "source": [
        "out1 = calculate_performance_metrics_price(data)\n",
        "out1.index = df.sort_values('Ticker').Sector\n",
        "out1.loc[selected_etfs.stock].sort_values('AnnualizedReturns',ascending=False)"
      ]
    },
    {
      "cell_type": "code",
      "execution_count": null,
      "metadata": {
        "id": "k3DJpPSXJFLR"
      },
      "outputs": [],
      "source": []
    },
    {
      "cell_type": "code",
      "execution_count": null,
      "metadata": {
        "id": "CQnHLCT3RtkM"
      },
      "outputs": [],
      "source": []
    },
    {
      "cell_type": "code",
      "execution_count": null,
      "metadata": {
        "id": "-4zIen6FIIzD"
      },
      "outputs": [],
      "source": []
    },
    {
      "cell_type": "code",
      "execution_count": null,
      "metadata": {
        "id": "t4XzBnobGPYE"
      },
      "outputs": [],
      "source": []
    },
    {
      "cell_type": "code",
      "execution_count": null,
      "metadata": {
        "id": "o5TQuQMbKW7E"
      },
      "outputs": [],
      "source": []
    },
    {
      "cell_type": "code",
      "execution_count": null,
      "metadata": {
        "id": "q9bVcuKWVfov"
      },
      "outputs": [],
      "source": [
        "yearly_returns = data.resample('Y').last().pct_change()\n",
        "yearly_returns.columns = df.sort_values('Ticker').Sector.values\n",
        "yearly_returns = yearly_returns[selected_etfs.stock]\n",
        "cumulative_returns = yearly_returns\n",
        "#cumulative_returns.columns = np.flip(df.sort_values('Ticker').Sector.values)\n",
        "#cumulative_returns = cumulative_returns[selected_etfs.stock]\n",
        "\n",
        "fig = go.Figure(data=go.Heatmap(z=cumulative_returns.T.values*100,\n",
        "                                 x=cumulative_returns.index.year,\n",
        "                                 y=cumulative_returns.columns,#,\n",
        "                                 colorscale=[(0, 'red'), (0.37, 'white'), (1, 'green')],\n",
        "                                 reversescale=False,\n",
        "                                 texttemplate='%{z:.1f}%',\n",
        "                                 hovertemplate='ticker: %{y} <br> Year: %{x}%  <br> Ret YoY: %{z:.1f}%'\n",
        "                                 ))\n",
        "\n",
        "fig.update_layout(title=\"Returns\",\n",
        "                  xaxis_title=\"Year\",\n",
        "                  yaxis_title=\"Ticker\",\n",
        "                  coloraxis_colorbar=dict(title='Percentage Returns', tickformat=\".1%\"))"
      ]
    },
    {
      "cell_type": "code",
      "execution_count": null,
      "metadata": {
        "id": "3dDuvLacVODy"
      },
      "outputs": [],
      "source": [
        "import plotly.express as px\n",
        "\n",
        "# Create DataFrame with ETF data\n",
        "df.plot = out1.loc[selected_etfs.stock].merge(df[['Sector','Asset class','MarketCapitalization','Ticker']].set_index('Sector'),how=\"left\",left_index=True,right_index=True).reset_index().round(4)\n",
        "\n",
        "# Create scatterplot\n",
        "fig = px.scatter(df.plot, x='Volatility', y='AnnualizedReturns', size='MarketCapitalization', hover_name='Sector',color='SharpeRatio',\n",
        "                 title='Equity (Bubble size = ETF cap. B Dollars)', text='Sector', facet_col=\"Asset class\",width=1700, height=600)\n",
        "\n",
        "fig.update_layout(font=dict(size=8))\n",
        "fig.update_traces(textposition='middle center')\n",
        "fig.update_xaxes(range=[0, 0.3])\n",
        "fig.update_yaxes(range=[-0.02, 0.18])\n",
        "\n",
        "fig.show()\n"
      ]
    },
    {
      "cell_type": "code",
      "execution_count": null,
      "metadata": {
        "id": "OlvYl1cC4a0A"
      },
      "outputs": [],
      "source": []
    },
    {
      "cell_type": "code",
      "execution_count": null,
      "metadata": {
        "id": "gd_7DcF10fu1"
      },
      "outputs": [],
      "source": []
    },
    {
      "cell_type": "code",
      "execution_count": null,
      "metadata": {
        "id": "sO_K2gDO0EhI"
      },
      "outputs": [],
      "source": []
    },
    {
      "cell_type": "code",
      "execution_count": null,
      "metadata": {
        "id": "3a8ybEHFzuEs"
      },
      "outputs": [],
      "source": []
    },
    {
      "cell_type": "code",
      "execution_count": null,
      "metadata": {
        "id": "DDky5UDjwKf_"
      },
      "outputs": [],
      "source": []
    },
    {
      "cell_type": "code",
      "execution_count": null,
      "metadata": {
        "id": "ijXX2emAW8A6"
      },
      "outputs": [],
      "source": []
    },
    {
      "cell_type": "code",
      "execution_count": null,
      "metadata": {
        "id": "Xfhev2e4M15h"
      },
      "outputs": [],
      "source": []
    },
    {
      "cell_type": "code",
      "execution_count": null,
      "metadata": {
        "id": "nUa4AN_EiEiz"
      },
      "outputs": [],
      "source": []
    },
    {
      "cell_type": "code",
      "execution_count": null,
      "metadata": {
        "id": "_ZfUfUFlq1q6"
      },
      "outputs": [],
      "source": []
    },
    {
      "cell_type": "code",
      "execution_count": null,
      "metadata": {
        "id": "BTFHLn5_7_Wf"
      },
      "outputs": [],
      "source": []
    },
    {
      "cell_type": "code",
      "execution_count": null,
      "metadata": {
        "id": "amZlib1tb6wl"
      },
      "outputs": [],
      "source": []
    },
    {
      "cell_type": "code",
      "execution_count": null,
      "metadata": {
        "id": "dZKHIsx-hGEC"
      },
      "outputs": [],
      "source": []
    },
    {
      "cell_type": "code",
      "execution_count": null,
      "metadata": {
        "id": "NrCVk0W7BKX0"
      },
      "outputs": [],
      "source": []
    },
    {
      "cell_type": "code",
      "execution_count": null,
      "metadata": {
        "id": "Eu5GdlSHBHzw"
      },
      "outputs": [],
      "source": []
    },
    {
      "cell_type": "code",
      "execution_count": null,
      "metadata": {
        "id": "vacjyNco__DR"
      },
      "outputs": [],
      "source": []
    },
    {
      "cell_type": "code",
      "execution_count": null,
      "metadata": {
        "id": "gcc_i7Sd2lXD"
      },
      "outputs": [],
      "source": []
    },
    {
      "cell_type": "code",
      "execution_count": null,
      "metadata": {
        "id": "BE18XHFVzpaJ"
      },
      "outputs": [],
      "source": []
    },
    {
      "cell_type": "code",
      "execution_count": null,
      "metadata": {
        "id": "S54JYAkvTK0o"
      },
      "outputs": [],
      "source": []
    },
    {
      "cell_type": "code",
      "execution_count": null,
      "metadata": {
        "id": "60XX_AkXvNbg"
      },
      "outputs": [],
      "source": []
    },
    {
      "cell_type": "code",
      "execution_count": null,
      "metadata": {
        "id": "8pIX3NHe2Mk2"
      },
      "outputs": [],
      "source": []
    },
    {
      "cell_type": "code",
      "execution_count": null,
      "metadata": {
        "id": "HZrMDkJe5c1j"
      },
      "outputs": [],
      "source": []
    },
    {
      "cell_type": "code",
      "execution_count": null,
      "metadata": {
        "id": "EesHtTgpVhEc"
      },
      "outputs": [],
      "source": []
    },
    {
      "cell_type": "code",
      "execution_count": null,
      "metadata": {
        "id": "odgeC_Uxwq5m"
      },
      "outputs": [],
      "source": []
    },
    {
      "cell_type": "code",
      "execution_count": null,
      "metadata": {
        "id": "nRAICsDBRJRT"
      },
      "outputs": [],
      "source": []
    },
    {
      "cell_type": "code",
      "execution_count": null,
      "metadata": {
        "id": "X2QyFS9uhveX"
      },
      "outputs": [],
      "source": []
    },
    {
      "cell_type": "code",
      "execution_count": null,
      "metadata": {
        "id": "qUSUQYwHQPCj"
      },
      "outputs": [],
      "source": []
    },
    {
      "cell_type": "code",
      "execution_count": null,
      "metadata": {
        "id": "kRCAqRZ4qEss"
      },
      "outputs": [],
      "source": []
    },
    {
      "cell_type": "code",
      "execution_count": null,
      "metadata": {
        "id": "cHDKdJeaaUUA"
      },
      "outputs": [],
      "source": []
    },
    {
      "cell_type": "code",
      "execution_count": null,
      "metadata": {
        "id": "RR84HTo4E-dd"
      },
      "outputs": [],
      "source": []
    },
    {
      "cell_type": "code",
      "execution_count": null,
      "metadata": {
        "id": "iZURxHtGM2rr"
      },
      "outputs": [],
      "source": []
    },
    {
      "cell_type": "code",
      "execution_count": null,
      "metadata": {
        "id": "fA7IknfCKAZ9"
      },
      "outputs": [],
      "source": []
    },
    {
      "cell_type": "code",
      "execution_count": null,
      "metadata": {
        "id": "4ggSG0x1zjnB"
      },
      "outputs": [],
      "source": [
        "\n"
      ]
    },
    {
      "cell_type": "code",
      "execution_count": null,
      "metadata": {
        "id": "8b-IOeuhPxxb"
      },
      "outputs": [],
      "source": []
    },
    {
      "cell_type": "code",
      "execution_count": null,
      "metadata": {
        "id": "0-EpuTu-2FP5"
      },
      "outputs": [],
      "source": []
    },
    {
      "cell_type": "code",
      "execution_count": null,
      "metadata": {
        "id": "lXT3Wkr2U-iz"
      },
      "outputs": [],
      "source": []
    },
    {
      "cell_type": "code",
      "execution_count": null,
      "metadata": {
        "id": "zlZFfI2SNJSs"
      },
      "outputs": [],
      "source": []
    },
    {
      "cell_type": "code",
      "execution_count": null,
      "metadata": {
        "id": "fH5HO6jeukz2"
      },
      "outputs": [],
      "source": []
    },
    {
      "cell_type": "code",
      "execution_count": null,
      "metadata": {
        "id": "9cJN2RzcwB8Z"
      },
      "outputs": [],
      "source": [
        "\n"
      ]
    },
    {
      "cell_type": "code",
      "execution_count": null,
      "metadata": {
        "id": "WRVhHK7SFdTv"
      },
      "outputs": [],
      "source": [
        "\n",
        "\n"
      ]
    },
    {
      "cell_type": "code",
      "execution_count": null,
      "metadata": {
        "id": "CEU5OFcq9Kae"
      },
      "outputs": [],
      "source": []
    },
    {
      "cell_type": "code",
      "execution_count": null,
      "metadata": {
        "id": "K7kAxYc8uSYK"
      },
      "outputs": [],
      "source": []
    },
    {
      "cell_type": "code",
      "execution_count": null,
      "metadata": {
        "id": "UxqZW8mQ0vwW"
      },
      "outputs": [],
      "source": [
        "\n"
      ]
    },
    {
      "cell_type": "code",
      "execution_count": null,
      "metadata": {
        "id": "2TesU-zYmWqZ"
      },
      "outputs": [],
      "source": []
    },
    {
      "cell_type": "code",
      "execution_count": null,
      "metadata": {
        "id": "W5FLUeT3G7KL"
      },
      "outputs": [],
      "source": []
    },
    {
      "cell_type": "code",
      "execution_count": null,
      "metadata": {
        "id": "8-CrSL30Fx7w"
      },
      "outputs": [],
      "source": []
    },
    {
      "cell_type": "code",
      "execution_count": null,
      "metadata": {
        "id": "TtM5FBIC-fO8"
      },
      "outputs": [],
      "source": []
    },
    {
      "cell_type": "code",
      "execution_count": null,
      "metadata": {
        "id": "1qp9hBF0BubK"
      },
      "outputs": [],
      "source": []
    },
    {
      "cell_type": "code",
      "execution_count": null,
      "metadata": {
        "id": "ssf_lrTi4wvY"
      },
      "outputs": [],
      "source": []
    },
    {
      "cell_type": "code",
      "execution_count": null,
      "metadata": {
        "id": "-6RADc_pJYo6"
      },
      "outputs": [],
      "source": []
    },
    {
      "cell_type": "code",
      "execution_count": null,
      "metadata": {
        "id": "cS-cKznW8zC9"
      },
      "outputs": [],
      "source": []
    },
    {
      "cell_type": "code",
      "execution_count": null,
      "metadata": {
        "id": "xF_anhERCvmV"
      },
      "outputs": [],
      "source": []
    },
    {
      "cell_type": "code",
      "execution_count": null,
      "metadata": {
        "id": "lN_aT3nl_oU9"
      },
      "outputs": [],
      "source": []
    },
    {
      "cell_type": "code",
      "execution_count": null,
      "metadata": {
        "id": "q3BP7uz5ASaQ"
      },
      "outputs": [],
      "source": []
    },
    {
      "cell_type": "code",
      "execution_count": null,
      "metadata": {
        "id": "V02jSpGC-DWN"
      },
      "outputs": [],
      "source": []
    },
    {
      "cell_type": "code",
      "execution_count": null,
      "metadata": {
        "id": "pz3KV0vQwNA8"
      },
      "outputs": [],
      "source": []
    },
    {
      "cell_type": "code",
      "execution_count": null,
      "metadata": {
        "id": "UCth4mW34uf0"
      },
      "outputs": [],
      "source": []
    },
    {
      "cell_type": "code",
      "execution_count": null,
      "metadata": {
        "id": "OZdVECu2JYwW"
      },
      "outputs": [],
      "source": []
    },
    {
      "cell_type": "code",
      "execution_count": null,
      "metadata": {
        "id": "bRLWOTiOJzGu"
      },
      "outputs": [],
      "source": []
    },
    {
      "cell_type": "code",
      "execution_count": null,
      "metadata": {
        "id": "GRweuvf7LiJb"
      },
      "outputs": [],
      "source": []
    },
    {
      "cell_type": "code",
      "execution_count": null,
      "metadata": {
        "id": "WFZbFNM_Pkgj"
      },
      "outputs": [],
      "source": []
    },
    {
      "cell_type": "code",
      "execution_count": null,
      "metadata": {
        "id": "cpvKOIwEPzpy"
      },
      "outputs": [],
      "source": []
    },
    {
      "cell_type": "code",
      "execution_count": null,
      "metadata": {
        "id": "BWBYjVvmgOXh"
      },
      "outputs": [],
      "source": []
    },
    {
      "cell_type": "code",
      "execution_count": null,
      "metadata": {
        "id": "VMvb6LIUuckp"
      },
      "outputs": [],
      "source": []
    },
    {
      "cell_type": "code",
      "execution_count": null,
      "metadata": {
        "id": "GlJaQj5VP1fm"
      },
      "outputs": [],
      "source": []
    },
    {
      "cell_type": "code",
      "execution_count": null,
      "metadata": {
        "id": "dHV3sgu4O-T4"
      },
      "outputs": [],
      "source": []
    },
    {
      "cell_type": "code",
      "execution_count": null,
      "metadata": {
        "id": "w5RKNw02m7zn"
      },
      "outputs": [],
      "source": []
    },
    {
      "cell_type": "code",
      "execution_count": null,
      "metadata": {
        "id": "X5QSKCS00hmR"
      },
      "outputs": [],
      "source": []
    },
    {
      "cell_type": "code",
      "execution_count": null,
      "metadata": {
        "id": "r2229HSMe2ON"
      },
      "outputs": [],
      "source": []
    },
    {
      "cell_type": "code",
      "execution_count": null,
      "metadata": {
        "id": "sfZC2TcarkuM"
      },
      "outputs": [],
      "source": []
    },
    {
      "cell_type": "code",
      "execution_count": null,
      "metadata": {
        "id": "D181j6NWu2dn"
      },
      "outputs": [],
      "source": []
    },
    {
      "cell_type": "code",
      "execution_count": null,
      "metadata": {
        "id": "JYV9yt5FqxtX"
      },
      "outputs": [],
      "source": []
    },
    {
      "cell_type": "code",
      "execution_count": null,
      "metadata": {
        "id": "YpOaJl84zwNk"
      },
      "outputs": [],
      "source": []
    },
    {
      "cell_type": "code",
      "execution_count": null,
      "metadata": {
        "id": "y4UZnihtYx8l"
      },
      "outputs": [],
      "source": []
    },
    {
      "cell_type": "code",
      "execution_count": null,
      "metadata": {
        "id": "WQNH_0CPyXQc"
      },
      "outputs": [],
      "source": []
    },
    {
      "cell_type": "code",
      "execution_count": null,
      "metadata": {
        "id": "2MNiXD3OkAH3"
      },
      "outputs": [],
      "source": []
    },
    {
      "cell_type": "code",
      "execution_count": null,
      "metadata": {
        "id": "0bXqC3zM8t1x"
      },
      "outputs": [],
      "source": []
    },
    {
      "cell_type": "code",
      "execution_count": null,
      "metadata": {
        "id": "J6RH_ClJCrNc"
      },
      "outputs": [],
      "source": []
    },
    {
      "cell_type": "code",
      "execution_count": null,
      "metadata": {
        "id": "qTNgkX-X13gV"
      },
      "outputs": [],
      "source": []
    },
    {
      "cell_type": "code",
      "execution_count": null,
      "metadata": {
        "id": "LyxucWq7k-Ek"
      },
      "outputs": [],
      "source": []
    },
    {
      "cell_type": "code",
      "execution_count": null,
      "metadata": {
        "id": "3ngrWxr5gOLg"
      },
      "outputs": [],
      "source": []
    },
    {
      "cell_type": "code",
      "execution_count": null,
      "metadata": {
        "id": "VeO3duinRaNJ"
      },
      "outputs": [],
      "source": []
    },
    {
      "cell_type": "code",
      "execution_count": null,
      "metadata": {
        "id": "f3gvxjIn3Wkm"
      },
      "outputs": [],
      "source": []
    },
    {
      "cell_type": "code",
      "execution_count": null,
      "metadata": {
        "id": "tYUvmNe6c2k_"
      },
      "outputs": [],
      "source": []
    },
    {
      "cell_type": "code",
      "execution_count": null,
      "metadata": {
        "id": "bCQSgoS5c5eL"
      },
      "outputs": [],
      "source": []
    },
    {
      "cell_type": "code",
      "execution_count": null,
      "metadata": {
        "id": "VSthdxcXRaWe"
      },
      "outputs": [],
      "source": []
    },
    {
      "cell_type": "code",
      "execution_count": null,
      "metadata": {
        "id": "uF22Gx_iRkEx"
      },
      "outputs": [],
      "source": []
    },
    {
      "cell_type": "code",
      "execution_count": null,
      "metadata": {
        "id": "3ZcOEMnMuuZH"
      },
      "outputs": [],
      "source": []
    },
    {
      "cell_type": "code",
      "execution_count": null,
      "metadata": {
        "id": "lMlCE3Hz2aD1"
      },
      "outputs": [],
      "source": []
    },
    {
      "cell_type": "code",
      "execution_count": null,
      "metadata": {
        "id": "EXH7gpDc0uI-"
      },
      "outputs": [],
      "source": []
    },
    {
      "cell_type": "code",
      "execution_count": null,
      "metadata": {
        "id": "sptrU7kKvZo2"
      },
      "outputs": [],
      "source": []
    },
    {
      "cell_type": "code",
      "execution_count": null,
      "metadata": {
        "id": "b-T88KJ5b5P2"
      },
      "outputs": [],
      "source": []
    },
    {
      "cell_type": "code",
      "execution_count": null,
      "metadata": {
        "id": "dUcZmtAV60kS"
      },
      "outputs": [],
      "source": []
    },
    {
      "cell_type": "code",
      "execution_count": null,
      "metadata": {
        "id": "8GiRmEqjCKBY"
      },
      "outputs": [],
      "source": []
    },
    {
      "cell_type": "code",
      "execution_count": null,
      "metadata": {
        "id": "W0Wj-dLL-OHi"
      },
      "outputs": [],
      "source": []
    },
    {
      "cell_type": "code",
      "execution_count": null,
      "metadata": {
        "id": "jUA-NWJEyQgd"
      },
      "outputs": [],
      "source": []
    },
    {
      "cell_type": "code",
      "execution_count": null,
      "metadata": {
        "id": "61kehjVI0oXK"
      },
      "outputs": [],
      "source": []
    },
    {
      "cell_type": "code",
      "execution_count": null,
      "metadata": {
        "id": "ek6wmW5j9JtX"
      },
      "outputs": [],
      "source": []
    },
    {
      "cell_type": "code",
      "execution_count": null,
      "metadata": {
        "id": "tqnvd--myIM7"
      },
      "outputs": [],
      "source": []
    },
    {
      "cell_type": "code",
      "execution_count": null,
      "metadata": {
        "id": "1-ThcgEM3gil"
      },
      "outputs": [],
      "source": []
    },
    {
      "cell_type": "code",
      "execution_count": null,
      "metadata": {
        "id": "0LZStSOwz3ZY"
      },
      "outputs": [],
      "source": []
    },
    {
      "cell_type": "code",
      "execution_count": null,
      "metadata": {
        "id": "S7-uNS1VVEkS"
      },
      "outputs": [],
      "source": []
    },
    {
      "cell_type": "code",
      "execution_count": null,
      "metadata": {
        "id": "EGbr3Yfj4w1_"
      },
      "outputs": [],
      "source": []
    },
    {
      "cell_type": "code",
      "execution_count": null,
      "metadata": {
        "id": "hj-QUm9ab0b7"
      },
      "outputs": [],
      "source": []
    },
    {
      "cell_type": "code",
      "execution_count": null,
      "metadata": {
        "id": "f3W3Ur53moRC"
      },
      "outputs": [],
      "source": []
    }
  ],
  "metadata": {
    "colab": {
      "provenance": [],
      "authorship_tag": "ABX9TyNXzlKl5VnVJ22L9eEkvmt8",
      "include_colab_link": true
    },
    "kernelspec": {
      "display_name": "Python 3",
      "name": "python3"
    },
    "language_info": {
      "name": "python"
    }
  },
  "nbformat": 4,
  "nbformat_minor": 0
}